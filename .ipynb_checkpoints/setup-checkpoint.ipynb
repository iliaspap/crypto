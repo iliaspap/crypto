{
 "cells": [
  {
   "cell_type": "code",
   "execution_count": 3,
   "id": "939b15aa",
   "metadata": {},
   "outputs": [],
   "source": [
    "import numpy as np\n",
    "import random\n",
    "\n",
    "def isPrime(n, k):\n",
    "    if n == 1: return False \n",
    "    if n == 2: return True\n",
    "    rootFound = False\n",
    "    for i in range(k):\n",
    "        if rootFound: break\n",
    "        a = random.randint(2,n-1)\n",
    "        if pow(a, n-1, n) != 1: return False\n",
    "        # We can write n-1 as t2^r, t odd\n",
    "        t = n-1\n",
    "        while t % 2 == 0:\n",
    "            t >>= 1\n",
    "        b =pow(a, t, n)\n",
    "        if b: continue\n",
    "        while b != -1:\n",
    "            b = pow(b, 2, n)\n",
    "            if b == 1: \n",
    "                rootFound = True\n",
    "    return True\n",
    "\n",
    "def safePrime(l):\n",
    "    while(1):\n",
    "        n = random.randint(1<<l, 1<<(l+1))\n",
    "        if isPrime(n, 5) and isPrime(n//2, 5):\n",
    "            return n\n",
    "        \n",
    "def generator(p):\n",
    "    while(1):\n",
    "        g = random.randint(1, p-1)\n",
    "        if pow(g, (p-1)//2, p) == p-1:\n",
    "            return g\n",
    "def key_gen(l):\n",
    "    p = safePrime(l)\n",
    "    q = p//2\n",
    "    g = pow(generator(p),2,p)\n",
    "    sk = random.randint(1, q-1)\n",
    "    ck = pow(g, sk, p)\n",
    "    return (p,q,g,sk,ck)\n",
    "\n",
    "# Code from GeeksforGeeks\n",
    "def modInverse(a, m):\n",
    "    m0 = m\n",
    "    y = 0\n",
    "    x = 1\n",
    " \n",
    "    if (m == 1):\n",
    "        return 0\n",
    " \n",
    "    while (a > 1):\n",
    "        # q is quotient\n",
    "        q = a // m\n",
    "        t = m\n",
    "        # m is remainder now, process\n",
    "        # same as Euclid's algo\n",
    "        m = a % m\n",
    "        a = t\n",
    "        t = y\n",
    "        # Update x and y\n",
    "        y = x - q * y\n",
    "        x = t\n",
    "    # Make x positive\n",
    "    if (x < 0):\n",
    "        x = x + m0\n",
    "    return x\n",
    "\n",
    "def encrypt(m, ck, g, p, q, r):\n",
    "    return (pow(g, r, p), (m * pow(ck,r,p)) % p)\n",
    "\n",
    "def decrypt(c, p, sk):\n",
    "    return (c[1] * pow(modInverse(c[0], p), sk, p)) % p"
   ]
  },
  {
   "cell_type": "code",
   "execution_count": 12,
   "id": "ff3762e5",
   "metadata": {},
   "outputs": [],
   "source": [
    "import names\n",
    "import pickle\n",
    "\n",
    "# Commit and Decommit functions\n",
    "Com = lambda ck, M, r: encrypt(M, ck, g, p, q, r)\n",
    "Dec = lambda sk, C: decrypt(C, p, sk)\n",
    "#Setup \n",
    "#n Voters, m Candidates\n",
    "n = 100\n",
    "m = 4\n",
    "# Generate random candidate names\n",
    "P = np.array([names.get_full_name() for i in range(m)])\n",
    "# Public key ck and private key sk generation given security parameter l\n",
    "p, q, g, sk, ck = key_gen(100)\n",
    "# for l in range(n):\n",
    "# Choose random permutations for each side of each ballot\n",
    "perm = np.array([[np.random.permutation(m) for a in range(2)] for i in range(n)])\n",
    "# Choose unique vote codes\n",
    "C = np.array([[np.random.permutation(np.arange(2*m*l + a*m + 1, 2*m*l + (a+1)*m + 1)) for a in range(2)] for l in range(1, n+1)])\n",
    "x = np.max([2*m-1, n+1])\n",
    "# Create array of powers of x. The (i+1)-th power indicates the (i+1)-th rank/position\n",
    "R = []\n",
    "temp = 1\n",
    "for i in range(m):\n",
    "    R.append(temp)\n",
    "    temp *= x\n",
    "# Commit vote code values and apply permutation\n",
    "t = np.array([[[random.randint(1,q-1) for j in range(m)] for a in range(2)] for i in range(n)])\n",
    "U = np.array([[[Com(ck, C[i][a][j], t[i][a][j]) for j in range(m)] for a in range(2)] for x in range(n)])\n",
    "U = np.array([[U[i][a][perm[i][a]] for a in range(2)] for i in range(n)])\n",
    "Vrand, U = U[:,:,:,0], U[:,:,:,1]\n",
    "# Commit ranks and apply same permutation as before\n",
    "r = np.array([[[random.randint(1,q-1) for j in range(m)] for a in range(2)] for i in range(n)])\n",
    "E = np.array([[np.array([Com(ck, R[j], r[i][a][j]) for j in range(m)])[perm[i][a]] for a in range(2)] for i in range(n)])\n",
    "Rrand, E = E[:,:,:,0], E[:,:,:,1]\n",
    "# Gather the public info and commit to BB\n",
    "Publ = [(i+1, U[i], E[i]) for i in range(n)]\n",
    "Pub = {\n",
    "    \"ck\": ck,\n",
    "    \"P\": P,\n",
    "    \"Publ\": Publ\n",
    "}\n",
    "with open('BB', 'wb') as fbb:\n",
    "    pickle.dump(Pub, fbb)"
   ]
  },
  {
   "cell_type": "code",
   "execution_count": 13,
   "id": "e43cd0e6",
   "metadata": {
    "tags": []
   },
   "outputs": [],
   "source": [
    "# import pickle\n",
    "\n",
    "# # Making n ballots: s[i] contains the tuple (tag, s0, s1) of voter i\n",
    "# s = list([(i+1, np.array([(P[k], C[i][0][k]) for k in range(m)]), np.array([(P[k], C[i][1][k]) for k in range(m)])) for i in range(n)])\n",
    "# # Saving ballots to 'ballots'\n",
    "# with open('ballots', 'wb') as f:\n",
    "#     pickle.dump(s, f)"
   ]
  },
  {
   "cell_type": "code",
   "execution_count": 77,
   "id": "50423f97",
   "metadata": {},
   "outputs": [],
   "source": [
    "### tally ###\n",
    "with open('votes','rb') as fv:\n",
    "    votes = pickle.load(fv)\n",
    "Etally = [[] for i in range(m)]\n",
    "Rand = [[] for i in range(m)]\n",
    "for v in votes:\n",
    "    # Ord[vote_code] == corresponding rank\n",
    "    Ord = dict(zip(C[v[0]-1][v[1]], range(m)))\n",
    "    for j in range(m):\n",
    "        temp = perm[v[0]-1][v[1]][Ord[int(v[2][j])]]\n",
    "        Etally[j].append(E[v[0]-1][v[1]][temp])\n",
    "        Rand[j].append(Rrand[v[0]-1][v[1]][temp])"
   ]
  },
  {
   "cell_type": "code",
   "execution_count": 94,
   "id": "40e6a346",
   "metadata": {},
   "outputs": [
    {
     "data": {
      "text/plain": [
       "1108386208247211778854884637435"
      ]
     },
     "execution_count": 94,
     "metadata": {},
     "output_type": "execute_result"
    }
   ],
   "source": [
    "### result ###\n",
    "A = np.stack((Rand[0], Etally[0]), axis=1)\n",
    "Dec(sk, (np.prod(Rand[0]) % p,np.prod(Etally[0])%p))"
   ]
  },
  {
   "cell_type": "code",
   "execution_count": null,
   "id": "04e2ba8b",
   "metadata": {},
   "outputs": [],
   "source": [
    "import numpy as np\n",
    "a = [np.array([1,2,3]), np.array([4,5,6])]\n",
    "np.prod(a, axis=0)"
   ]
  }
 ],
 "metadata": {
  "kernelspec": {
   "display_name": "Python 3 (ipykernel)",
   "language": "python",
   "name": "python3"
  },
  "language_info": {
   "codemirror_mode": {
    "name": "ipython",
    "version": 3
   },
   "file_extension": ".py",
   "mimetype": "text/x-python",
   "name": "python",
   "nbconvert_exporter": "python",
   "pygments_lexer": "ipython3",
   "version": "3.10.2"
  }
 },
 "nbformat": 4,
 "nbformat_minor": 5
}
