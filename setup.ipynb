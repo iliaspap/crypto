{
 "cells": [
  {
   "cell_type": "code",
   "execution_count": 78,
   "id": "ff3762e5",
   "metadata": {},
   "outputs": [],
   "source": [
    "import names\n",
    "import pickle\n",
    "import crypto\n",
    "#Setup \n",
    "#n Voters, m Candidates\n",
    "n = 100\n",
    "m = 4\n",
    "# Generate random candidate names\n",
    "P = np.array([names.get_full_name() for i in range(m)])\n",
    "# Public key ck and private key sk generation given security parameter l\n",
    "ck, sk = crypto.key_gen(100)\n",
    "p,q,g,h = ck\n",
    "# Commit and Decommit functions\n",
    "Com = lambda ck, M, r: crypto.encrypt(M, ck, r)\n",
    "Dec = lambda sk, C, r: crypto.decrypt(C, sk, r)\n",
    "# Choose random permutations for each side of each ballot\n",
    "perm = np.array([[np.random.permutation(m) for a in range(2)] for i in range(n)])\n",
    "# Choose unique vote codes\n",
    "C = np.array([[np.random.permutation(range(2*m*l + a*m + 1, 2*m*l + (a+1)*m + 1)) for a in range(2)] for l in range(1, n+1)])\n",
    "x = np.max([2*m-1, n+1])\n",
    "# Create array of powers of x. The (i+1)-th power indicates the (i+1)-th rank/position\n",
    "R = []\n",
    "temp = 1\n",
    "for i in range(m):\n",
    "    R.append(temp)\n",
    "    temp *= x\n",
    "R = np.array(R)\n",
    "# Commit vote code values and apply permutation\n",
    "t = np.array([[[random.randint(1,q-1) for j in range(m)] for a in range(2)] for i in range(n)])\n",
    "U = np.array([[C[i][a][perm[i][a]] for a in range(2)] for i in range(n)])\n",
    "U = np.array([[[Com(ck, U[i][a][j], t[i][a][j]) for j in range(m)] for a in range(2)] for i in range(n)])\n",
    "# Generate double-ballots: s[i] contains the tuple (tag, s0, s1) of voter i\n",
    "s = list([(i+1, [(P[k], C[i,0,k]) for k in range(m)], [(P[k], C[i,1,k]) for k in range(m)]) for i in range(n)])\n",
    "# Commit ranks and apply same permutation as before\n",
    "r = np.array([[[random.randint(1,q-1) for j in range(m)] for a in range(2)] for i in range(n)])\n",
    "E = np.array([[R[perm[i,a]] for a in range(2)] for i in range(n)])\n",
    "E = np.array([[np.array([Com(ck, E[i,a,j], r[i,a,j]) for j in range(m)]) for a in range(2)] for i in range(n)])\n",
    "# Gather the public info and upload to BB\n",
    "Publ = [(i+1, U[i], E[i]) for i in range(n)]\n",
    "Pub = {\n",
    "    \"ck\": ck,\n",
    "    \"P\": P,\n",
    "    \"n\": n, \n",
    "    \"Publ\": Publ\n",
    "}\n",
    "with open('BB', 'wb') as fbb:\n",
    "    pickle.dump(Pub, fbb)\n",
    "# # Saving ballots to 'ballots'\n",
    "with open('ballots', 'wb') as f:\n",
    "    pickle.dump(s, f)"
   ]
  },
  {
   "cell_type": "code",
   "execution_count": 79,
   "id": "e43cd0e6",
   "metadata": {
    "tags": []
   },
   "outputs": [],
   "source": [
    "### EA private info\n",
    "info = {\n",
    "    \"ck\":ck,\n",
    "    \"sk\":sk,\n",
    "    \"s\": s,\n",
    "    \"n\": n,\n",
    "    \"m\": m,\n",
    "    \"t\": t,\n",
    "    \"r\": r,\n",
    "    \"C\": C,\n",
    "    \"perm\": perm\n",
    "}\n",
    "with open('privateInfo', 'wb') as f:\n",
    "    pickle.dump(info, f)"
   ]
  }
 ],
 "metadata": {
  "kernelspec": {
   "display_name": "Python 3 (ipykernel)",
   "language": "python",
   "name": "python3"
  },
  "language_info": {
   "codemirror_mode": {
    "name": "ipython",
    "version": 3
   },
   "file_extension": ".py",
   "mimetype": "text/x-python",
   "name": "python",
   "nbconvert_exporter": "python",
   "pygments_lexer": "ipython3",
   "version": "3.10.2"
  }
 },
 "nbformat": 4,
 "nbformat_minor": 5
}
