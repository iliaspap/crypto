{
 "cells": [
  {
   "cell_type": "code",
   "execution_count": 2,
   "id": "fcd887b4",
   "metadata": {},
   "outputs": [],
   "source": [
    "import numpy as np\n",
    "import pickle\n",
    "import crypto\n",
    "\n",
    "def productModp(prodList, p):\n",
    "    prod = 1\n",
    "    for t in prodList:\n",
    "        prod = (prod * t) % p\n",
    "    return prod\n",
    "# Read needed private and public data\n",
    "with open('privateInfo','rb') as fi:\n",
    "    info = pickle.load(fi)\n",
    "with open('BB','rb') as fbb:\n",
    "    Pub = pickle.load(fbb)\n",
    "ck, sk, s, n, m, t, r, C, perm = info[\"ck\"], info[\"sk\"], info[\"s\"], info[\"n\"], info[\"m\"], info[\"t\"], info[\"r\"], info[\"C\"], info[\"perm\"]\n",
    "x = max(n+1, 2*m-1)\n",
    "p,q,g,h = ck\n",
    "Publ = Pub[\"Publ\"]\n",
    "U = np.array([pl[1] for pl in Publ])\n",
    "E = np.array([pl[2] for pl in Publ])\n",
    "# Commit function\n",
    "Com = lambda ck, M, r: crypto.encrypt(M, ck, r)\n",
    "Dec = lambda sk, C, r: crypto.decrypt(C, sk, r)\n",
    "### tally ###\n",
    "with open('votes','rb') as fv:\n",
    "    votes = pickle.load(fv)\n",
    "\n",
    "# Create tuples (vote, audit side of double-ballot) for each voter and commit to BB\n",
    "auditVS = []\n",
    "for v in votes:\n",
    "    auditVS.append((s[v[0] - 1][2-v[1]], v))\n",
    "# Open vote_code committments\n",
    "Uopen = [[[(Dec(sk, U[i,a,j], t[i,a,j]), t[i,a,j]) for j in range(m)] for a in range(2)]for i in range(n)]\n",
    "# Open rank committments from the side not voted\n",
    "Eopen = [E[v[0]-1,1-v[1]] for v in votes]\n",
    "ropen = [r[v[0]-1, 1-v[1]] for v in votes]\n",
    "### Change how this is done?\n",
    "Etally = [[] for i in range(m)]\n",
    "rand = [[] for i in range(m)]\n",
    "for v in votes:\n",
    "    # Ord[vote_code] == corresponding rank\n",
    "    Ord = dict(zip(C[v[0]-1][v[1]], range(m)))\n",
    "    for j in range(m):\n",
    "        temp = perm[v[0]-1, v[1], Ord[int(v[2][j])]]\n",
    "        Etally[j].append(E[v[0]-1, v[1], temp])\n",
    "        rand[j].append(r[v[0]-1, v[1], temp])\n",
    "\n",
    "Esum = [productModp(tally, p) for tally in Etally]\n",
    "R = [sum(randList) for randList in rand]\n",
    "T = [Dec(sk, Esum[i], R[i]) for i in range(m)]\n",
    "Open = [[(Dec(sk, Eopen[i][j], ropen[i][j]), ropen[i][j]) for j in range(m)] for i in range(n)]\n",
    "\n",
    "bb = {\n",
    "    \"Pub\": Pub,\n",
    "    \"OpenBallots\": auditVS,\n",
    "    \"Uopen\": Uopen,\n",
    "    \"Result\": (Etally, Esum, (T,R)),\n",
    "    \"Eopen\": (Open, Eopen)\n",
    "}\n",
    "\n",
    "with open('BB', 'wb') as fbb:\n",
    "    pickle.dump(bb, fbb)"
   ]
  },
  {
   "cell_type": "code",
   "execution_count": 3,
   "id": "13a78258",
   "metadata": {},
   "outputs": [
    {
     "name": "stdout",
     "output_type": "stream",
     "text": [
      "[[2, 1, 3, 4], [2, 2, 3, 3], [2, 4, 2, 2], [4, 3, 2, 1]]\n",
      "[19, 17, 14, 10]\n"
     ]
    }
   ],
   "source": [
    "### result ###\n",
    "# given decommitted value of result (polynomial of x of order m) compute res = [s_0,s_1,...,s_{m-1}] where\n",
    "# s_i is the number of times that this candidate was given a rank of i.\n",
    "def produceResult(decommitment):\n",
    "    res = []\n",
    "    T = decommitment\n",
    "    for j in range(m):\n",
    "        s = T % x\n",
    "        res.append(s)\n",
    "        T = (T - s) // x\n",
    "    return res\n",
    "    \n",
    "fullRes = [produceResult(t) for t in T]\n",
    "res = []\n",
    "for x in fullRes:\n",
    "    result = 0\n",
    "    for i in range(m):\n",
    "        result += i*x[i]\n",
    "    res.append(result)\n",
    "print(fullRes)\n",
    "print(res)"
   ]
  }
 ],
 "metadata": {
  "kernelspec": {
   "display_name": "Python 3 (ipykernel)",
   "language": "python",
   "name": "python3"
  },
  "language_info": {
   "codemirror_mode": {
    "name": "ipython",
    "version": 3
   },
   "file_extension": ".py",
   "mimetype": "text/x-python",
   "name": "python",
   "nbconvert_exporter": "python",
   "pygments_lexer": "ipython3",
   "version": "3.10.2"
  }
 },
 "nbformat": 4,
 "nbformat_minor": 5
}
