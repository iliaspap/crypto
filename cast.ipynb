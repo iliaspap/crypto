{
 "cells": [
  {
   "cell_type": "code",
   "execution_count": 1,
   "id": "4632f622-3ae3-4496-91cf-e359870c4426",
   "metadata": {},
   "outputs": [],
   "source": [
    "import numpy as np\n",
    "import random\n",
    "import pickle\n",
    "\n",
    "# Reading ballots\n",
    "s = []\n",
    "with open('ballots', 'rb') as fb:\n",
    "    s = pickle.load(fb)\n",
    "\n",
    "# Recovering n and m    \n",
    "n = len(s)\n",
    "(_, temp, _) = s[0]\n",
    "m = len(temp)\n",
    "\n",
    "# Simulating coin flip for all n voters\n",
    "a = format(random.getrandbits(n), 'b')\n",
    "\n",
    "# Simulating random vote for each voter. vote[i][j] is the j-th vote of the i-th voter\n",
    "vote = [np.random.permutation(m) for i in range(n)]\n",
    "\n",
    "# Making list containing all votes in the form (tag, side, [vote_codes])\n",
    "allVotes = []\n",
    "for i in range(n):\n",
    "    (tag, s0, s1) = s[i]\n",
    "    if a[i] == '0':\n",
    "        C = []\n",
    "        for j in range(m):\n",
    "            (name, code) = s0[vote[i][j]]\n",
    "            C.append(code)\n",
    "        allVotes.append((tag, 0, C))\n",
    "    if a[i] == '1':\n",
    "        C = []\n",
    "        for j in range(m):\n",
    "            (name, code) = s1[vote[i][j]]\n",
    "            C.append(code)\n",
    "        allVotes.append((tag, 1, C))\n",
    "\n",
    "with open('votes', 'wb') as fv:\n",
    "    pickle.dump(allVotes, fv)"
   ]
  },
  {
   "cell_type": "code",
   "execution_count": null,
   "id": "cfd10d3a",
   "metadata": {},
   "outputs": [],
   "source": []
  }
 ],
 "metadata": {
  "kernelspec": {
   "display_name": "Python 3 (ipykernel)",
   "language": "python",
   "name": "python3"
  },
  "language_info": {
   "codemirror_mode": {
    "name": "ipython",
    "version": 3
   },
   "file_extension": ".py",
   "mimetype": "text/x-python",
   "name": "python",
   "nbconvert_exporter": "python",
   "pygments_lexer": "ipython3",
   "version": "3.10.2"
  }
 },
 "nbformat": 4,
 "nbformat_minor": 5
}
