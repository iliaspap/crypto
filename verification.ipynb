{
 "cells": [
  {
   "cell_type": "code",
   "execution_count": 1,
   "id": "201f7d3d-c422-4beb-99cd-b881bcb09450",
   "metadata": {},
   "outputs": [
    {
     "data": {
      "text/plain": [
       "True"
      ]
     },
     "execution_count": 1,
     "metadata": {},
     "output_type": "execute_result"
    }
   ],
   "source": [
    "import pickle\n",
    "\n",
    "verify = True\n",
    "\n",
    "with open('BB', 'rb') as f:\n",
    "    pub = pickle.load(f)\n",
    "\n",
    "# 1 #\n",
    "ballots = pub['OpenBallots']\n",
    "P = pub['Pub']['P']\n",
    "m = len(P)\n",
    "n = pub['Pub']['n']\n",
    "tags = set()\n",
    "vote_codes = set()\n",
    "if len(ballots) != n: \n",
    "    verify = False\n",
    "    \n",
    "for b in ballots:\n",
    "    if not verify:\n",
    "        break\n",
    "    if b[1][0] in tags:\n",
    "        verify = False\n",
    "    tags.add(b[1][0])\n",
    "    for i in range(m):\n",
    "        if b[0][i][1] in vote_codes or b[1][2][i] in vote_codes:\n",
    "            verify = False\n",
    "        vote_codes.add(b[0][i][1])\n",
    "        vote_codes.add(b[1][2][i])\n",
    "        \n",
    "if len(vote_codes) != 2*n*m:\n",
    "    verify = False\n",
    "\n",
    "# 2 #\n",
    "# 3 #\n",
    "# 4 #\n",
    "# 5 #\n",
    "# 6 #\n",
    "# 7 #"
   ]
  },
  {
   "cell_type": "code",
   "execution_count": null,
   "id": "ac6e9939-b0d5-48f1-83e5-731b4d4b7f4b",
   "metadata": {},
   "outputs": [],
   "source": []
  }
 ],
 "metadata": {
  "kernelspec": {
   "display_name": "Python 3 (ipykernel)",
   "language": "python",
   "name": "python3"
  },
  "language_info": {
   "codemirror_mode": {
    "name": "ipython",
    "version": 3
   },
   "file_extension": ".py",
   "mimetype": "text/x-python",
   "name": "python",
   "nbconvert_exporter": "python",
   "pygments_lexer": "ipython3",
   "version": "3.10.2"
  }
 },
 "nbformat": 4,
 "nbformat_minor": 5
}
