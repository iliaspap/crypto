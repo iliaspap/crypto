{
 "cells": [
  {
   "cell_type": "code",
   "execution_count": 2,
   "id": "201f7d3d-c422-4beb-99cd-b881bcb09450",
   "metadata": {},
   "outputs": [],
   "source": [
    "import pickle\n",
    "\n",
    "with open('BB', 'rb') as f:\n",
    "    pub = pickle.load(f)\n",
    "\n",
    "# 1 #\n"
   ]
  },
  {
   "cell_type": "code",
   "execution_count": null,
   "id": "ac6e9939-b0d5-48f1-83e5-731b4d4b7f4b",
   "metadata": {},
   "outputs": [],
   "source": []
  }
 ],
 "metadata": {
  "kernelspec": {
   "display_name": "Python 3 (ipykernel)",
   "language": "python",
   "name": "python3"
  },
  "language_info": {
   "codemirror_mode": {
    "name": "ipython",
    "version": 3
   },
   "file_extension": ".py",
   "mimetype": "text/x-python",
   "name": "python",
   "nbconvert_exporter": "python",
   "pygments_lexer": "ipython3",
   "version": "3.10.2"
  }
 },
 "nbformat": 4,
 "nbformat_minor": 5
}
