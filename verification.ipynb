{
 "cells": [
  {
   "cell_type": "code",
   "execution_count": 1,
   "id": "201f7d3d-c422-4beb-99cd-b881bcb09450",
   "metadata": {},
   "outputs": [
    {
     "name": "stdout",
     "output_type": "stream",
     "text": [
      "True\n"
     ]
    }
   ],
   "source": [
    "import pickle\n",
    "import numpy as np\n",
    "\n",
    "def encrypt(m, ck, r): # change ck to dictionary????\n",
    "    p,q,g,h = ck\n",
    "    return (pow(g, int(m), p) * pow(h,r,p)) % p # we make sure that m is of type int\n",
    "\n",
    "def productModp(prodList, p):\n",
    "    prod = 1\n",
    "    for t in prodList:\n",
    "        prod = (prod * t) % p\n",
    "    return prod\n",
    "\n",
    "Com = lambda ck, M, r: encrypt(M, ck, r)\n",
    "\n",
    "# Function to check if vote code is opened.\n",
    "# C: vote code\n",
    "# Uopen: shuffled list of m tuples (votecode, rand)\n",
    "# Open: shuffled list of m tuples (rank, rand)\n",
    "# Eopen: opened ranks\n",
    "# U: m commited votecodes\n",
    "# E: m commited ranks \n",
    "def isOpened(C, Uopen, Open, Eopen, U, E, ck):\n",
    "    # find randomness of vote code C\n",
    "    index = -1\n",
    "    myRand = -1\n",
    "    for i in range(len(Uopen)):\n",
    "        if C == Uopen[i][0]:\n",
    "            index = i\n",
    "            myRand = Uopen[i][1]\n",
    "            break\n",
    "    myU = Com(ck, C, myRand)\n",
    "    \n",
    "    # locate myU in original commitment\n",
    "    origIndex = -1\n",
    "    for i in range(len(U)):\n",
    "        if myU == U[i]:\n",
    "            origIndex = i\n",
    "            break\n",
    "    myRank = E[origIndex]\n",
    "    \n",
    "    return (myRank in Eopen) \n",
    "\n",
    "verify = True\n",
    "\n",
    "with open('BB', 'rb') as f:\n",
    "    pub = pickle.load(f)\n",
    "\n",
    "# 1 #\n",
    "P = pub['Pub']['P']\n",
    "ballots = pub['OpenBallots']\n",
    "m = len(P)\n",
    "n = pub['Pub']['n']\n",
    "\n",
    "x = max(n+1, 2*m - 1)\n",
    "# there are n ballots\n",
    "if len(ballots) != n: \n",
    "    verify = False\n",
    "\n",
    "tags = set()\n",
    "vote_codes = set()\n",
    "# print(tags)\n",
    "for b in ballots:\n",
    "    if not verify:\n",
    "        break\n",
    "    if b[1][0] in tags:\n",
    "        verify = False\n",
    "    tags.add(b[1][0])\n",
    "    for i in range(m):\n",
    "        if b[0][i][1] in vote_codes or b[1][2][i] in vote_codes:\n",
    "            verify = False\n",
    "        vote_codes.add(b[0][i][1])\n",
    "        vote_codes.add(b[1][2][i])\n",
    "        \n",
    "if len(vote_codes) != 2*n*m: ### needed?\n",
    "    verify = False\n",
    "# 2 #\n",
    "Uopen = pub['Uopen']\n",
    "(Open, Eopen) = pub['Eopen']\n",
    "U = [pub['Pub']['Publ'][i][1] for i in range(n)]\n",
    "E = [pub['Pub']['Publ'][i][2] for i in range(n)]\n",
    "ck = pub['Pub']['ck']\n",
    "\n",
    "for b in ballots:\n",
    "    if not verify:\n",
    "        break\n",
    "    for i in range(m):\n",
    "        if not isOpened(b[0][i][1], Uopen[b[1][0]-1][1-b[1][1]], Open[b[1][0]-1], Eopen[b[1][0]-1], U[b[1][0]-1][1-b[1][1]], E[b[1][0]-1][1-b[1][1]], ck):\n",
    "            verify = False\n",
    "        if isOpened(b[1][2][i], Uopen[b[1][0]-1][b[1][1]], Open[b[1][0]-1], Eopen[b[1][0]-1], U[b[1][0]-1][b[1][1]], E[b[1][0]-1][b[1][1]], ck):\n",
    "            verify = False\n",
    "\n",
    "# 3 #\n",
    "\n",
    "# 4 #\n",
    "verify = ([[Com(ck, opening[0], opening[1]) for opening in x]for x in Open] == np.array(Eopen)).all()\n",
    "Cordered = [[ballots[i][0][j][1] for j in range(m)] for i in range(n)]\n",
    "Copen = [[[Uopen[i][a][j][0] for j in range(m)] for a in range(2)] for i in range(n)]\n",
    "votes = [ballots[i][1] for i in range(n)]\n",
    "# Order of vote_codes (from the side not voted)\n",
    "Order = [dict(zip(c, range(m))) for c in Cordered]\n",
    "\n",
    "for v in votes:\n",
    "    for j in range(m):\n",
    "        verify = (Open[v[0]-1][j] == pow(x, Order[v[0]-1][Copen[v[0]-1][1- v[1]][j]], ck[0]))\n",
    "# 5 #\n",
    "Etally, Esum, (T,R) = pub[\"Result\"]\n",
    "verify = ([[productModp(tally, ck[0]) for tally in Etally]] == np.array(Esum)).all()\n",
    "# Each vote contains exactly m vote_codes which belong to the correct ballot\n",
    "for v in votes:\n",
    "    v_codes = set(v[2])\n",
    "    verify = (len(v_codes) == m)\n",
    "    for c in Copen[v[0]-1][v[1]]:\n",
    "        verify = (c in v_codes)\n",
    "         \n",
    "print(verify)"
   ]
  },
  {
   "cell_type": "code",
   "execution_count": 2,
   "id": "ac6e9939-b0d5-48f1-83e5-731b4d4b7f4b",
   "metadata": {},
   "outputs": [
    {
     "data": {
      "text/plain": [
       "<zip at 0x7fe4ffff6e40>"
      ]
     },
     "execution_count": 2,
     "metadata": {},
     "output_type": "execute_result"
    }
   ],
   "source": [
    "zip([1,2,3], range(3))"
   ]
  }
 ],
 "metadata": {
  "kernelspec": {
   "display_name": "Python 3",
   "language": "python",
   "name": "python3"
  },
  "language_info": {
   "codemirror_mode": {
    "name": "ipython",
    "version": 3
   },
   "file_extension": ".py",
   "mimetype": "text/x-python",
   "name": "python",
   "nbconvert_exporter": "python",
   "pygments_lexer": "ipython3",
   "version": "3.8.8"
  }
 },
 "nbformat": 4,
 "nbformat_minor": 5
}
